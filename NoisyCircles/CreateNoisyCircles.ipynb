{
 "cells": [
  {
   "cell_type": "code",
   "execution_count": 3,
   "id": "317688d0-978e-4cc3-a4fe-8a3be450a552",
   "metadata": {},
   "outputs": [
    {
     "name": "stderr",
     "output_type": "stream",
     "text": [
      "ibmqfactory.load_account:WARNING:2021-08-05 19:30:37,102: Credentials are already in use. The existing account in the session will be replaced.\n"
     ]
    }
   ],
   "source": [
    "import numpy as np\n",
    "from sklearn import cluster, datasets\n",
    "\n",
    "# Loading your IBM Quantum account(s)\n",
    "provider = IBMQ.load_account()"
   ]
  },
  {
   "cell_type": "code",
   "execution_count": 13,
   "id": "d85f0c69-15ee-4d76-be4c-712b503b6598",
   "metadata": {},
   "outputs": [],
   "source": [
    "n_samples=0\n",
    "for i in range(1,11):\n",
    "    n_samples = i*100\n",
    "    x,y = datasets.make_circles(n_samples=n_samples, factor=.5, noise=.05)\n",
    "    np.savetxt('noisy_circles'+str(n_samples)+'.txt', x, delimiter=',', fmt='%.3f')"
   ]
  },
  {
   "cell_type": "code",
   "execution_count": null,
   "id": "48f5c6ee-9f69-4413-8c4b-3fbffb50b3b2",
   "metadata": {},
   "outputs": [],
   "source": []
  }
 ],
 "metadata": {
  "kernelspec": {
   "display_name": "Qiskit v0.29.0",
   "language": "python",
   "name": "python3"
  },
  "language_info": {
   "codemirror_mode": {
    "name": "ipython",
    "version": 3
   },
   "file_extension": ".py",
   "mimetype": "text/x-python",
   "name": "python",
   "nbconvert_exporter": "python",
   "pygments_lexer": "ipython3",
   "version": "3.8.10"
  },
  "widgets": {
   "application/vnd.jupyter.widget-state+json": {
    "state": {
     "0074737ec0354e3bbe834d56eab05089": {
      "model_module": "@jupyter-widgets/controls",
      "model_module_version": "1.5.0",
      "model_name": "ButtonStyleModel",
      "state": {}
     },
     "4e23a4125e604897a9c8195c8dd9fcf3": {
      "model_module": "@jupyter-widgets/base",
      "model_module_version": "1.2.0",
      "model_name": "LayoutModel",
      "state": {
       "grid_area": "right",
       "padding": "0px 0px 0px 0px",
       "width": "70px"
      }
     },
     "51c034d217264951a7c08859c19bf093": {
      "model_module": "@jupyter-widgets/controls",
      "model_module_version": "1.5.0",
      "model_name": "DescriptionStyleModel",
      "state": {
       "description_width": ""
      }
     },
     "5788a5a8cb934799aab22ca4f34a894a": {
      "model_module": "@jupyter-widgets/base",
      "model_module_version": "1.2.0",
      "model_name": "LayoutModel",
      "state": {
       "grid_template_areas": "\n                                       \". . . . right \"\n                                        ",
       "grid_template_columns": "20% 20% 20% 20% 20%",
       "width": "100%"
      }
     },
     "5f047c1349ea42ba91a253dad041c523": {
      "model_module": "@jupyter-widgets/base",
      "model_module_version": "1.2.0",
      "model_name": "LayoutModel",
      "state": {
       "width": "145px"
      }
     },
     "6173d03c876b4767bef83076f15be6e0": {
      "model_module": "@jupyter-widgets/controls",
      "model_module_version": "1.5.0",
      "model_name": "DescriptionStyleModel",
      "state": {
       "description_width": ""
      }
     },
     "671bf082adc44b54bc9743a1247694fa": {
      "model_module": "@jupyter-widgets/controls",
      "model_module_version": "1.5.0",
      "model_name": "DescriptionStyleModel",
      "state": {
       "description_width": ""
      }
     },
     "6b884f1dfddf4d788d4a84bf577f8658": {
      "model_module": "@jupyter-widgets/controls",
      "model_module_version": "1.5.0",
      "model_name": "GridBoxModel",
      "state": {
       "children": [
        "IPY_MODEL_a185c452f0884e65bc140feb86d89d91"
       ],
       "layout": "IPY_MODEL_5788a5a8cb934799aab22ca4f34a894a"
      }
     },
     "6f5a52f9b32e40f5b057719e10542efb": {
      "model_module": "@jupyter-widgets/controls",
      "model_module_version": "1.5.0",
      "model_name": "HTMLModel",
      "state": {
       "layout": "IPY_MODEL_abd8d3b046a44bc88e0169329becca34",
       "style": "IPY_MODEL_ce237689f6424eaab46c652768ac7a2b",
       "value": "<h5>Queue</h5>"
      }
     },
     "70b2eba9320b452aa27ce936bbe8e18f": {
      "model_module": "@jupyter-widgets/controls",
      "model_module_version": "1.5.0",
      "model_name": "HBoxModel",
      "state": {
       "children": [
        "IPY_MODEL_7d6ffa32667746c09a912aff4b68871c",
        "IPY_MODEL_72d093e944344776bee5f5d9b0bb6553",
        "IPY_MODEL_ad94dbe8475d4b96a650d28b5119151f",
        "IPY_MODEL_6f5a52f9b32e40f5b057719e10542efb",
        "IPY_MODEL_90f34edc567244b0a98007b1d80ca5a7"
       ],
       "layout": "IPY_MODEL_e28ca5a0302c4b22aafab84be63cf35c"
      }
     },
     "72d093e944344776bee5f5d9b0bb6553": {
      "model_module": "@jupyter-widgets/controls",
      "model_module_version": "1.5.0",
      "model_name": "HTMLModel",
      "state": {
       "layout": "IPY_MODEL_5f047c1349ea42ba91a253dad041c523",
       "style": "IPY_MODEL_7dbe70e763b9407a84ee9a735b1e62f0",
       "value": "<h5>Backend</h5>"
      }
     },
     "7a4bed2c205e49a2b8278382837b0657": {
      "model_module": "@jupyter-widgets/base",
      "model_module_version": "1.2.0",
      "model_name": "LayoutModel",
      "state": {}
     },
     "7d6ffa32667746c09a912aff4b68871c": {
      "model_module": "@jupyter-widgets/controls",
      "model_module_version": "1.5.0",
      "model_name": "HTMLModel",
      "state": {
       "layout": "IPY_MODEL_fb096e3c8c454bd2ba4bbd75be62143a",
       "style": "IPY_MODEL_9caf3f61a47049f6b9a63739bb76fccc",
       "value": "<h5>Job ID</h5>"
      }
     },
     "7dbe70e763b9407a84ee9a735b1e62f0": {
      "model_module": "@jupyter-widgets/controls",
      "model_module_version": "1.5.0",
      "model_name": "DescriptionStyleModel",
      "state": {
       "description_width": ""
      }
     },
     "90f34edc567244b0a98007b1d80ca5a7": {
      "model_module": "@jupyter-widgets/controls",
      "model_module_version": "1.5.0",
      "model_name": "HTMLModel",
      "state": {
       "layout": "IPY_MODEL_7a4bed2c205e49a2b8278382837b0657",
       "style": "IPY_MODEL_671bf082adc44b54bc9743a1247694fa",
       "value": "<h5>Message</h5>"
      }
     },
     "966f13d06fd949169fa9b7016d52df3d": {
      "model_module": "@jupyter-widgets/controls",
      "model_module_version": "1.5.0",
      "model_name": "HTMLModel",
      "state": {
       "layout": "IPY_MODEL_d08d68bef23e4545a4ea7b59edc859de",
       "style": "IPY_MODEL_51c034d217264951a7c08859c19bf093",
       "value": "<p style='font-family: IBM Plex Sans, Arial, Helvetica, sans-serif; font-size: 20px; font-weight: medium;'>Circuit Properties</p>"
      }
     },
     "9caf3f61a47049f6b9a63739bb76fccc": {
      "model_module": "@jupyter-widgets/controls",
      "model_module_version": "1.5.0",
      "model_name": "DescriptionStyleModel",
      "state": {
       "description_width": ""
      }
     },
     "a185c452f0884e65bc140feb86d89d91": {
      "model_module": "@jupyter-widgets/controls",
      "model_module_version": "1.5.0",
      "model_name": "ButtonModel",
      "state": {
       "button_style": "primary",
       "description": "Clear",
       "layout": "IPY_MODEL_4e23a4125e604897a9c8195c8dd9fcf3",
       "style": "IPY_MODEL_0074737ec0354e3bbe834d56eab05089"
      }
     },
     "abd8d3b046a44bc88e0169329becca34": {
      "model_module": "@jupyter-widgets/base",
      "model_module_version": "1.2.0",
      "model_name": "LayoutModel",
      "state": {
       "width": "70px"
      }
     },
     "ad94dbe8475d4b96a650d28b5119151f": {
      "model_module": "@jupyter-widgets/controls",
      "model_module_version": "1.5.0",
      "model_name": "HTMLModel",
      "state": {
       "layout": "IPY_MODEL_fdeb393ab8a4402abb71f1e497d1e895",
       "style": "IPY_MODEL_6173d03c876b4767bef83076f15be6e0",
       "value": "<h5>Status</h5>"
      }
     },
     "ce237689f6424eaab46c652768ac7a2b": {
      "model_module": "@jupyter-widgets/controls",
      "model_module_version": "1.5.0",
      "model_name": "DescriptionStyleModel",
      "state": {
       "description_width": ""
      }
     },
     "d08d68bef23e4545a4ea7b59edc859de": {
      "model_module": "@jupyter-widgets/base",
      "model_module_version": "1.2.0",
      "model_name": "LayoutModel",
      "state": {
       "margin": "0px 0px 10px 0px"
      }
     },
     "e28ca5a0302c4b22aafab84be63cf35c": {
      "model_module": "@jupyter-widgets/base",
      "model_module_version": "1.2.0",
      "model_name": "LayoutModel",
      "state": {
       "margin": "0px 0px 0px 37px",
       "width": "600px"
      }
     },
     "fb096e3c8c454bd2ba4bbd75be62143a": {
      "model_module": "@jupyter-widgets/base",
      "model_module_version": "1.2.0",
      "model_name": "LayoutModel",
      "state": {
       "width": "190px"
      }
     },
     "fdeb393ab8a4402abb71f1e497d1e895": {
      "model_module": "@jupyter-widgets/base",
      "model_module_version": "1.2.0",
      "model_name": "LayoutModel",
      "state": {
       "width": "95px"
      }
     }
    },
    "version_major": 2,
    "version_minor": 0
   }
  }
 },
 "nbformat": 4,
 "nbformat_minor": 5
}
